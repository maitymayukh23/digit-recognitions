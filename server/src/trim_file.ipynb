{
 "cells": [
  {
   "cell_type": "code",
   "execution_count": 2,
   "id": "0c637674",
   "metadata": {},
   "outputs": [
    {
     "name": "stdout",
     "output_type": "stream",
     "text": [
      "Trimmed file to 100.00 MB\n"
     ]
    }
   ],
   "source": [
    "import os\n",
    "\n",
    "def trim_csv_to_size(filepath, target_size_mb=100):\n",
    "    target_size = target_size_mb * 1024 * 1024\n",
    "    temp_filepath = filepath + '.tmp'\n",
    "\n",
    "    with open(filepath, 'rb') as f:\n",
    "        lines = f.readlines()\n",
    "\n",
    "    # Remove rows from the end until file size is <= target_size\n",
    "    while True:\n",
    "        with open(temp_filepath, 'wb') as f:\n",
    "            f.writelines(lines)\n",
    "        if os.path.getsize(temp_filepath) <= target_size:\n",
    "            break\n",
    "        # Remove one row from the end\n",
    "        lines.pop()\n",
    "\n",
    "    # Replace original file\n",
    "    os.replace(temp_filepath, filepath)\n",
    "    print(f\"Trimmed file to {os.path.getsize(filepath) / (1024*1024):.2f} MB\")\n",
    "\n",
    "# Usage\n",
    "trim_csv_to_size('../public/mnist_train.csv', 100)"
   ]
  }
 ],
 "metadata": {
  "kernelspec": {
   "display_name": "Python 3",
   "language": "python",
   "name": "python3"
  },
  "language_info": {
   "codemirror_mode": {
    "name": "ipython",
    "version": 3
   },
   "file_extension": ".py",
   "mimetype": "text/x-python",
   "name": "python",
   "nbconvert_exporter": "python",
   "pygments_lexer": "ipython3",
   "version": "3.13.5"
  }
 },
 "nbformat": 4,
 "nbformat_minor": 5
}
