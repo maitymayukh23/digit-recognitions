{
 "cells": [
  {
   "cell_type": "code",
   "execution_count": 20,
   "id": "c76988ce",
   "metadata": {
    "ExecuteTime": {
     "end_time": "2025-08-30T11:41:13.359124Z",
     "start_time": "2025-08-30T11:41:13.354492Z"
    }
   },
   "outputs": [],
   "source": [
    "import pandas as pd\n",
    "import numpy as np\n",
    "import json\n",
    "from matplotlib import pyplot as plt"
   ]
  },
  {
   "cell_type": "code",
   "execution_count": 9,
   "id": "0888e192",
   "metadata": {
    "ExecuteTime": {
     "end_time": "2025-08-30T08:36:30.426800Z",
     "start_time": "2025-08-30T08:36:28.175576Z"
    }
   },
   "outputs": [],
   "source": [
    "# reading data\n",
    "dataset = pd.read_csv('../../public/mnist_train.csv', encoding='utf-8')\n",
    "test_dataset = pd.read_csv('../../public/mnist_test.csv', encoding='utf-8')"
   ]
  },
  {
   "cell_type": "code",
   "execution_count": 10,
   "id": "9c58d11d",
   "metadata": {
    "ExecuteTime": {
     "end_time": "2025-08-30T08:36:31.774984Z",
     "start_time": "2025-08-30T08:36:30.461673Z"
    }
   },
   "outputs": [],
   "source": [
    "\n",
    "# setting up dev dataset\n",
    "# dev_dataset = dataset.sample(frac=0.1, random_state=1000)\n",
    "data = np.array(dataset)\n",
    "data_set  = data.T\n",
    "label = data_set[0]\n",
    "pixel_set = data_set[1:]\n",
    "pixel_set = pixel_set / 255.0\n",
    "\n",
    "m, n = data.shape\n",
    "np.random.shuffle(data)\n",
    "data_dev = data[0:1000].T\n",
    "X_dev = data_dev[1: n]\n",
    "X_dev = X_dev / 255.0\n",
    "Y_dev = data_dev[0]\n",
    "data_train = data[2:].T\n",
    "X_train = data_train[1: n]\n",
    "X_train = X_train / 255.0\n",
    "Y_train = data_train[0]\n",
    "\n",
    "\n",
    "test_set = np.array(test_dataset).T\n",
    "test_label = test_set[0]\n",
    "test_set = test_set / 255.0\n",
    "test_pixel_set = test_set[1:]"
   ]
  },
  {
   "cell_type": "code",
   "execution_count": 11,
   "id": "7a421ee7",
   "metadata": {
    "ExecuteTime": {
     "end_time": "2025-08-30T08:36:31.813839Z",
     "start_time": "2025-08-30T08:36:31.808243Z"
    }
   },
   "outputs": [],
   "source": [
    "def init_params():\n",
    "    W1 = np.random.randn(10, 784) * 0.01\n",
    "    b1 = np.random.randn(10, 1) * 0.01\n",
    "    W2 = np.random.randn(10, 10) * 0.01\n",
    "    b2 = np.random.randn(10, 1) * 0.01\n",
    "    return W1, b1, W2, b2\n",
    "\n",
    "def one_hot_encode(Y):\n",
    "    \"\"\"\n",
    "        - One-hot encodes the labels\n",
    "        - Y: array of labels\n",
    "    \"\"\"\n",
    "    one_hot_Y = np.zeros((Y.size, Y.max() + 1))\n",
    "    one_hot_Y[np.arange(Y.size), Y] = 1\n",
    "    return one_hot_Y.T\n",
    "\n",
    "def ReLU(Z):\n",
    "    \"\"\"\n",
    "        - Rectified Linear Unit (ReLU) activation function\n",
    "        - Returns x if x > 0 else 0\n",
    "    \"\"\"\n",
    "    return np.maximum(0, Z)\n",
    "\n",
    "def derivative_ReLU(Z):\n",
    "    \"\"\"\n",
    "        - Derivative of ReLU function\n",
    "        - Returns 1 if Z > 0 else 0\n",
    "    \"\"\"\n",
    "    return (Z > 0).astype(int)\n",
    "\n",
    "def softmax(Z):\n",
    "    \"\"\"\n",
    "        - Softmax activation function\n",
    "        - Converts logits to probabilities\n",
    "    \"\"\"\n",
    "    exp_x = np.exp(Z - np.max(Z))\n",
    "    sum_exp_x = exp_x.sum(axis=0, keepdims=True)\n",
    "    return exp_x / (sum_exp_x + 1e-8)\n"
   ]
  },
  {
   "cell_type": "code",
   "execution_count": 12,
   "id": "1d184a23",
   "metadata": {
    "ExecuteTime": {
     "end_time": "2025-08-30T08:36:31.833286Z",
     "start_time": "2025-08-30T08:36:31.828459Z"
    }
   },
   "outputs": [],
   "source": [
    "def forward_propagation(X, W1, b1, W2, b2):\n",
    "    Z1 = np.dot(W1, X) + b1\n",
    "    A1 = ReLU(Z1)\n",
    "    Z2 = np.dot(W2, A1) + b2\n",
    "    A2 = softmax(Z2)\n",
    "    return A1, Z1, A2, Z2\n",
    "\n",
    "def back_propagation(Z1, A1, A2, W2, X, Y):\n",
    "    one_hot_Y = one_hot_encode(Y)\n",
    "    m = Y.size\n",
    "    dZ2 =A2 - one_hot_Y\n",
    "    dW2 = (1 / m) * np.dot(dZ2, A1.T)\n",
    "    db2 = (1 / m) * np.sum(dZ2, axis=1, keepdims=True)\n",
    "    dZ1 = W2.T.dot(dZ2) * derivative_ReLU(Z1)\n",
    "    dW1 = (1 / m) * np.dot(dZ1, X.T)\n",
    "    db1 = (1 / m) * np.sum(dZ1, axis=1, keepdims=True)\n",
    "    return dW1, db1, dW2, db2\n",
    "\n",
    "def update_params(params, grads, learning_rate):\n",
    "    W1, b1, W2, b2 = params\n",
    "    dW1, db1, dW2, db2 = grads\n",
    "    W1 -= learning_rate * dW1\n",
    "    b1 -= learning_rate * db1\n",
    "    W2 -= learning_rate * dW2\n",
    "    b2 -= learning_rate * db2\n",
    "    return W1, b1, W2, b2"
   ]
  },
  {
   "cell_type": "code",
   "execution_count": null,
   "id": "2184b97d",
   "metadata": {
    "ExecuteTime": {
     "end_time": "2025-08-30T08:36:31.849349Z",
     "start_time": "2025-08-30T08:36:31.844907Z"
    }
   },
   "outputs": [],
   "source": [
    "def get_predictions(A2):\n",
    "    return np.argmax(A2, axis=0)\n",
    "\n",
    "def get_accuracy(predictions, Y):\n",
    "    # return np.mean(predictions == np.argmax(Y, axis=0))\n",
    "    return np.sum(predictions == Y) / Y.size\n",
    "\n",
    "def compute_loss(A2, Y):\n",
    "    one_hot_Y = one_hot_encode(Y)\n",
    "    m = Y.size\n",
    "    # Avoid log(0) by adding a small epsilon\n",
    "    log_probs = np.log(np.clip(A2, 1e-8, 1.0))\n",
    "    loss = -np.sum(one_hot_Y * log_probs) / m\n",
    "    return loss"
   ]
  },
  {
   "cell_type": "code",
   "execution_count": 14,
   "id": "50b4fd25",
   "metadata": {
    "ExecuteTime": {
     "end_time": "2025-08-30T08:36:31.866676Z",
     "start_time": "2025-08-30T08:36:31.862255Z"
    }
   },
   "outputs": [],
   "source": [
    "def gradient_descent(X, Y, iterations, learning_rate):\n",
    "    initials = init_params()\n",
    "    for i in range(iterations):\n",
    "        Z1, A1, Z2, A2 = forward_propagation(X, *initials)\n",
    "        grads = back_propagation(Z1, A1, A2, initials[2], X, Y)\n",
    "        initials = update_params(initials, grads, learning_rate)\n",
    "        if i % 100 == 0:\n",
    "            predictions = get_predictions(A2)\n",
    "            accuracy = get_accuracy(predictions, Y)\n",
    "            loss = compute_loss(A2, Y)\n",
    "            print(f\"Iteration {i}, accuracy: {accuracy}, loss: {loss}\")\n",
    "    return initials\n"
   ]
  },
  {
   "cell_type": "code",
   "execution_count": 21,
   "id": "706e05ba",
   "metadata": {
    "ExecuteTime": {
     "end_time": "2025-08-30T11:43:52.519298Z",
     "start_time": "2025-08-30T11:41:19.447005Z"
    }
   },
   "outputs": [
    {
     "name": "stdout",
     "output_type": "stream",
     "text": [
      "Iteration 0, accuracy: 0.1242767514813524, loss: 14.796496254624726\n",
      "Iteration 100, accuracy: 0.5748867201115371, loss: 1.9816393851654102\n",
      "Iteration 200, accuracy: 0.6856744510282329, loss: 1.261571665420069\n",
      "Iteration 300, accuracy: 0.7444405716277449, loss: 1.030748160032945\n",
      "Iteration 400, accuracy: 0.7578947368421053, loss: 0.9308815180255547\n",
      "Iteration 500, accuracy: 0.774102474729871, loss: 0.8768532624317393\n",
      "Iteration 600, accuracy: 0.7988323457650749, loss: 0.833448148074911\n",
      "Iteration 700, accuracy: 0.8177413733008017, loss: 0.794999499669323\n",
      "Iteration 800, accuracy: 0.8323109097246427, loss: 0.7676209372741566\n",
      "Iteration 900, accuracy: 0.8440397350993377, loss: 0.7447248138807409\n",
      "Iteration 1000, accuracy: 0.8528929940745904, loss: 0.7285135715370316\n",
      "Iteration 1100, accuracy: 0.8586266991983269, loss: 0.715009710422733\n",
      "Iteration 1200, accuracy: 0.8623213663297317, loss: 0.7068467622042719\n",
      "Iteration 1300, accuracy: 0.8650923666782852, loss: 0.699331428840348\n",
      "Iteration 1400, accuracy: 0.8671662600209132, loss: 0.6924587037610923\n",
      "Iteration 1500, accuracy: 0.8684733356570233, loss: 0.6869057380171157\n",
      "Iteration 1600, accuracy: 0.8701638201463925, loss: 0.6830392862866594\n",
      "Iteration 1700, accuracy: 0.8713140467061694, loss: 0.6787012729832229\n",
      "Iteration 1800, accuracy: 0.8724294179156501, loss: 0.674870764563318\n",
      "Iteration 1900, accuracy: 0.8730568142209829, loss: 0.6705129312049758\n"
     ]
    }
   ],
   "source": [
    "config = gradient_descent(X_train, Y_train, 2000, 0.05)\n",
    "# config = gradient_descent(pixel_set, label, 2000, 0.05)\n",
    "W1, b1, W2, b2 = config\n",
    "\n",
    "params_dict = {\n",
    "    \"W1\": W1.tolist(),\n",
    "    \"b1\": b1.tolist(),\n",
    "    \"W2\": W2.tolist(),\n",
    "    \"b2\": b2.tolist()\n",
    "}\n",
    "\n",
    "with open(\"model_params.json\", \"w\") as f:\n",
    "    json.dump(params_dict, f)"
   ]
  },
  {
   "cell_type": "code",
   "execution_count": 16,
   "id": "9025483c",
   "metadata": {
    "ExecuteTime": {
     "end_time": "2025-08-30T08:39:12.245670Z",
     "start_time": "2025-08-30T08:39:12.242127Z"
    }
   },
   "outputs": [],
   "source": [
    "def make_predictions(X, W1, b1, W2, b2):\n",
    "    _, _, A2, _ = forward_propagation(X, W1, b1, W2, b2)\n",
    "    predictions = get_predictions(A2)\n",
    "    return predictions\n",
    "\n",
    "def test_prediction(index, W1, b1, W2, b2):\n",
    "    current_image = test_pixel_set[:, index, None]\n",
    "    prediction = make_predictions(current_image, W1, b1, W2, b2)\n",
    "    actual = test_label[index]\n",
    "\n",
    "    print(f\"Predicted: {prediction}, Actual: {actual}\")\n",
    "    actual_image = current_image.reshape((28, 28)) * 255\n",
    "    plt.gray()\n",
    "    plt.imshow(actual_image, interpolation='nearest')\n",
    "    plt.show()\n",
    "    # return prediction, actual"
   ]
  },
  {
   "cell_type": "code",
   "id": "dd13a63c",
   "metadata": {
    "ExecuteTime": {
     "end_time": "2025-08-30T12:41:09.245131Z",
     "start_time": "2025-08-30T12:40:04.499067Z"
    }
   },
   "source": [
    "test_prediction(8, *config)"
   ],
   "outputs": [
    {
     "name": "stdout",
     "output_type": "stream",
     "text": [
      "Predicted: [4], Actual: 5\n"
     ]
    },
    {
     "data": {
      "text/plain": [
       "<Figure size 640x480 with 1 Axes>"
      ],
      "image/png": "[encoded data removed]"
     },
     "metadata": {},
     "output_type": "display_data",
     "jetTransient": {
      "display_id": null
     }
    }
   ],
   "execution_count": 23
  }
 ],
 "metadata": {
  "kernelspec": {
   "display_name": ".venv",
   "language": "python",
   "name": "python3"
  },
  "language_info": {
   "codemirror_mode": {
    "name": "ipython",
    "version": 3
   },
   "file_extension": ".py",
   "mimetype": "text/x-python",
   "name": "python",
   "nbconvert_exporter": "python",
   "pygments_lexer": "ipython3",
   "version": "3.13.5"
  }
 },
 "nbformat": 4,
 "nbformat_minor": 5
}
